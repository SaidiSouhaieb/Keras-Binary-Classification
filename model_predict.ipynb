{
 "cells": [
  {
   "cell_type": "code",
   "execution_count": null,
   "metadata": {},
   "outputs": [],
   "source": [
    "# Loading the model\n",
    "from keras.models import load_model\n",
    "model = load_model('cat_dog_model.h5')"
   ]
  },
  {
   "cell_type": "code",
   "execution_count": null,
   "metadata": {},
   "outputs": [],
   "source": [
    "from keras.preprocessing import image\n",
    "import numpy as np\n",
    "\n",
    "# Load an image for prediction\n",
    "img_path = 'Labrador_Retriever_portrait.jpg'  # Replace with the path to your image\n",
    "img = image.load_img(img_path, target_size=(150, 150))\n",
    "img_array = image.img_to_array(img)\n",
    "img_array = np.expand_dims(img_array, axis=0)\n",
    "img_array /= 255.0  # Rescale to match the training data preprocessing\n",
    "\n",
    "# Make the prediction\n",
    "prediction = model.predict(img_array)\n",
    "\n",
    "# Check the prediction result\n",
    "if prediction[0][0] > 0.5:\n",
    "    print(\"It's a dog!\")\n",
    "else:\n",
    "    print(\"It's a cat!\")"
   ]
  }
 ],
 "metadata": {
  "language_info": {
   "name": "python"
  },
  "orig_nbformat": 4
 },
 "nbformat": 4,
 "nbformat_minor": 2
}
